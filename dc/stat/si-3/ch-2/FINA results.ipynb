{
 "cells": [
  {
   "cell_type": "code",
   "execution_count": 1,
   "metadata": {},
   "outputs": [],
   "source": [
    "import dc_stat_think as dcst"
   ]
  },
  {
   "cell_type": "code",
   "execution_count": 2,
   "metadata": {},
   "outputs": [],
   "source": [
    "import numpy as np"
   ]
  },
  {
   "cell_type": "code",
   "execution_count": 3,
   "metadata": {},
   "outputs": [],
   "source": [
    "import matplotlib.pyplot as plt"
   ]
  },
  {
   "cell_type": "code",
   "execution_count": 4,
   "metadata": {},
   "outputs": [],
   "source": [
    "mens_200_free_heats = [118.32, 107.73, 107.  , 106.39, 108.75, 117.74, 108.43, 111.96,\n",
    "       114.36, 121.77, 108.23, 107.47, 118.41, 108.29, 106.  , 109.32,\n",
    "       111.49, 112.92, 117.38, 110.95, 108.27, 111.78, 107.87, 110.77,\n",
    "       109.05, 111.  , 108.77, 106.1 , 106.61, 113.68, 108.2 , 106.2 ,\n",
    "       111.01, 109.25, 112.  , 118.55, 109.56, 108.18, 111.67, 108.09,\n",
    "       110.04, 113.97, 109.91, 112.12, 111.65, 110.18, 116.36, 124.59,\n",
    "       115.59, 121.01, 106.88, 108.96, 109.09, 108.67, 109.6 , 111.85,\n",
    "       118.54, 108.12, 124.38, 107.17, 107.48, 106.65, 106.91, 140.68,\n",
    "       117.93, 120.66, 111.29, 107.1 , 108.49, 112.43, 110.61, 110.38,\n",
    "       109.87, 106.73, 107.18, 110.98, 108.55, 114.31, 112.05]\n",
    "\n",
    "mens_200_free_heats = np.array(mens_200_free_heats)\n"
   ]
  },
  {
   "cell_type": "code",
   "execution_count": 6,
   "metadata": {},
   "outputs": [
    {
     "data": {
      "image/png": "[encoded data removed]",
      "text/plain": [
       "<Figure size 432x288 with 1 Axes>"
      ]
     },
     "metadata": {
      "needs_background": "light"
     },
     "output_type": "display_data"
    }
   ],
   "source": [
    "x , y = dcst.ecdf( mens_200_free_heats )\n",
    "\n",
    "# Plot the ECDF as dots\n",
    "_ = plt.plot(  x, y , marker = '.' , linestyle = 'none' )\n",
    "\n",
    "# Label axes and show plot\n",
    "plt.xlabel( 'time (s)' )\n",
    "plt.ylabel( 'ECDF' )\n",
    "plt.show()\n"
   ]
  },
  {
   "cell_type": "markdown",
   "metadata": {},
   "source": [
    "Graphical EDA is always a great start. We see that fast swimmers are below 115 seconds, with a smattering of slow swimmers past that, including one very slow swimmer."
   ]
  },
  {
   "cell_type": "code",
   "execution_count": 7,
   "metadata": {},
   "outputs": [
    {
     "name": "stdout",
     "output_type": "stream",
     "text": [
      "\n",
      "mean time: 111.63 sec.\n",
      "95% conf int of mean: [110.50, 112.90] sec.\n",
      "\n",
      "median time: 110.04 sec.\n",
      "95% conf int of median: [108.96, 111.02] sec.\n",
      "\n"
     ]
    }
   ],
   "source": [
    "# Compute mean and median swim times\n",
    "mean_time = np.mean(mens_200_free_heats)\n",
    "median_time = np.median(mens_200_free_heats)\n",
    "\n",
    "# Draw 10,000 bootstrap replicates of the mean and median\n",
    "bs_reps_mean = dcst.draw_bs_reps( mens_200_free_heats , np.mean ,size =10000  )\n",
    "bs_reps_median = dcst.draw_bs_reps( mens_200_free_heats , np.median ,size =10000  )\n",
    "\n",
    "\n",
    "# Compute the 95% confidence intervals\n",
    "conf_int_mean = np.percentile(  bs_reps_mean , [2.5 ,97.5] )\n",
    "conf_int_median = np.percentile(  bs_reps_median , [2.5 ,97.5] )\n",
    "\n",
    "# Print the result to the screen\n",
    "print(\"\"\"\n",
    "mean time: {0:.2f} sec.\n",
    "95% conf int of mean: [{1:.2f}, {2:.2f}] sec.\n",
    "\n",
    "median time: {3:.2f} sec.\n",
    "95% conf int of median: [{4:.2f}, {5:.2f}] sec.\n",
    "\"\"\".format(mean_time, *conf_int_mean, median_time, *conf_int_median))"
   ]
  },
  {
   "cell_type": "code",
   "execution_count": null,
   "metadata": {},
   "outputs": [],
   "source": []
  }
 ],
 "metadata": {
  "kernelspec": {
   "display_name": "Python 3",
   "language": "python",
   "name": "python3"
  },
  "language_info": {
   "codemirror_mode": {
    "name": "ipython",
    "version": 3
   },
   "file_extension": ".py",
   "mimetype": "text/x-python",
   "name": "python",
   "nbconvert_exporter": "python",
   "pygments_lexer": "ipython3",
   "version": "3.7.0"
  }
 },
 "nbformat": 4,
 "nbformat_minor": 2
}
