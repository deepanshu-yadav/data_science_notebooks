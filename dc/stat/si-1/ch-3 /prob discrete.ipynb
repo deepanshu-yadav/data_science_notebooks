{
 "cells": [
  {
   "cell_type": "code",
   "execution_count": 3,
   "metadata": {},
   "outputs": [
    {
     "data": {
      "image/png": "[encoded data removed]",
      "text/plain": [
       "<Figure size 432x288 with 1 Axes>"
      ]
     },
     "metadata": {
      "needs_background": "light"
     },
     "output_type": "display_data"
    }
   ],
   "source": [
    "import numpy as np\n",
    "import matplotlib.pyplot as plt\n",
    "%matplotlib inline\n",
    "# Seed the random number generator\n",
    "np.random.seed(42)\n",
    "\n",
    "# Initialize random numbers: random_numbers\n",
    "random_numbers = np.empty(100000)\n",
    "\n",
    "# Generate random numbers by looping over range(100000)\n",
    "for i in range(100000):\n",
    "    random_numbers[i] = np.random.random()\n",
    "\n",
    "# Plot a histogram\n",
    "_ = plt.hist(random_numbers)\n",
    "\n",
    "# Show the plot\n",
    "plt.show()\n"
   ]
  },
  {
   "cell_type": "markdown",
   "metadata": {},
   "source": [
    "You can think of a Bernoulli trial as a flip of a possibly biased coin. Specifically, each coin flip has a probability p of landing heads (success) and probability 1−p of landing tails (failure). In this exercise, you will write a function to perform n Bernoulli trials, perform_bernoulli_trials(n, p), which returns the number of successes out of n Bernoulli trials, each of which has probability p of success. To perform each Bernoulli trial, use the np.random.random() function, which returns a random number between zero and one."
   ]
  },
  {
   "cell_type": "code",
   "execution_count": 4,
   "metadata": {},
   "outputs": [],
   "source": [
    "def perform_bernoulli_trials(n, p):\n",
    "    \"\"\"Perform n Bernoulli trials with success probability p\n",
    "    and return number of successes.\"\"\"\n",
    "    # Initialize number of successes: n_success\n",
    "    n_success = 0\n",
    "\n",
    "    # Perform trials\n",
    "    for i in range(n):\n",
    "        # Choose random number between zero and one: random_number\n",
    "        random_number = np.random.random()\n",
    "\n",
    "        # If less than p, it's a success so add one to n_success\n",
    "        if random_number <p  :\n",
    "            n_success += 1\n",
    "\n",
    "    return n_success"
   ]
  },
  {
   "cell_type": "markdown",
   "metadata": {},
   "source": [
    "How many defaults might we expect?\n",
    "\n",
    "Let's say a bank made 100 mortgage loans. It is possible that anywhere between 0 and 100 of the loans will be defaulted upon. You would like to know the probability of getting a given number of defaults, given that the probability of a default is p = 0.05. To investigate this, you will do a simulation. You will perform 100 Bernoulli trials using the perform_bernoulli_trials() function you wrote in the previous exercise and record how many defaults we get. Here, a success is a default. (Remember that the word \"success\" just means that the Bernoulli trial evaluates to True, i.e., did the loan recipient default?) You will do this for another 100 Bernoulli trials. And again and again until we have tried it 1000 times. Then, you will plot a histogram describing the probability of the number of defaults."
   ]
  },
  {
   "cell_type": "code",
   "execution_count": 5,
   "metadata": {},
   "outputs": [
    {
     "name": "stderr",
     "output_type": "stream",
     "text": [
      "/home/deepanshu/anaconda3/lib/python3.7/site-packages/matplotlib/axes/_axes.py:6571: UserWarning: The 'normed' kwarg is deprecated, and has been replaced by the 'density' kwarg.\n",
      "  warnings.warn(\"The 'normed' kwarg is deprecated, and has been \"\n"
     ]
    },
    {
     "data": {
      "image/png": "[encoded data removed]",
      "text/plain": [
       "<Figure size 432x288 with 1 Axes>"
      ]
     },
     "metadata": {
      "needs_background": "light"
     },
     "output_type": "display_data"
    }
   ],
   "source": [
    "# Seed random number generator\n",
    "np.random.seed(42)\n",
    "\n",
    "# Initialize the number of defaults: n_defaults\n",
    "n_defaults = np.empty(1000)\n",
    "\n",
    "# Compute the number of defaults\n",
    "for i in range(1000):\n",
    "    n_defaults[i] = perform_bernoulli_trials(100 , 0.05 )\n",
    "\n",
    "\n",
    "# Plot the histogram with default number of bins; label your axes\n",
    "_ = plt.hist(n_defaults, normed= True)\n",
    "_ = plt.xlabel('number of defaults out of 100 loans')\n",
    "_ = plt.ylabel('probability')\n",
    "\n",
    "# Show the plot\n",
    "plt.show()"
   ]
  },
  {
   "cell_type": "code",
   "execution_count": 6,
   "metadata": {},
   "outputs": [],
   "source": [
    "def ecdf(data):\n",
    "    \"\"\"Compute ECDF for a one-dimensional array of measurements.\"\"\"\n",
    "    # Number of data points: n\n",
    "    n = len(data)\n",
    "\n",
    "    # x-data for the ECDF: x\n",
    "    x = np.sort(data)\n",
    "\n",
    "    # y-data for the ECDF: y\n",
    "    y = np.arange(1, n+1) / n\n",
    "\n",
    "    return x, y\n"
   ]
  },
  {
   "cell_type": "markdown",
   "metadata": {},
   "source": [
    "If interest rates are such that the bank will lose money if 10 or more of its loans are defaulted upon, what is the probability that the bank will lose money?"
   ]
  },
  {
   "cell_type": "code",
   "execution_count": 7,
   "metadata": {},
   "outputs": [
    {
     "data": {
      "image/png": "[encoded data removed]",
      "text/plain": [
       "<Figure size 432x288 with 1 Axes>"
      ]
     },
     "metadata": {
      "needs_background": "light"
     },
     "output_type": "display_data"
    },
    {
     "name": "stdout",
     "output_type": "stream",
     "text": [
      "Probability of losing money = 0.022\n"
     ]
    }
   ],
   "source": [
    "# Compute ECDF: x, y\n",
    "x,y  = ecdf(n_defaults)\n",
    "\n",
    "# Plot the ECDF with labeled axes\n",
    "\n",
    "plt.plot( x, y , marker = '.' , linestyle = 'none' )\n",
    "plt.xlabel('number of defaults out of 100')\n",
    "plt.ylabel('CDF')\n",
    "# Show the plot\n",
    "plt.show()\n",
    "\n",
    "# Compute the number of 100-loan simulations with 10 or more defaults: n_lose_money\n",
    "n_lose_money = np.sum(n_defaults >= 10)\n",
    "\n",
    "# Compute and print probability of losing money\n",
    "print('Probability of losing money =', n_lose_money / len(n_defaults))\n"
   ]
  },
  {
   "cell_type": "markdown",
   "metadata": {},
   "source": [
    "Sampling out of the Binomial distribution\n",
    "\n",
    "Compute the probability mass function for the number of defaults we would expect for 100 loans as in the last section, but instead of simulating all of the Bernoulli trials, perform the sampling using np.random.binomial(). This is identical to the calculation you did in the last set of exercises using your custom-written perform_bernoulli_trials() function, but far more computationally efficient. Given this extra efficiency, we will take 10,000 samples instead of 1000. After taking the samples, plot the CDF as last time. This CDF that you are plotting is that of the Binomial distribution.\n",
    "\n",
    "Note: For this exercise and all going forward, the random number generator is pre-seeded for you (with np.random.seed(42)) to save you typing that each time."
   ]
  },
  {
   "cell_type": "code",
   "execution_count": 8,
   "metadata": {},
   "outputs": [
    {
     "data": {
      "image/png": "[encoded data removed]",
      "text/plain": [
       "<Figure size 432x288 with 1 Axes>"
      ]
     },
     "metadata": {
      "needs_background": "light"
     },
     "output_type": "display_data"
    }
   ],
   "source": [
    "# Take 10,000 samples out of the binomial distribution: n_defaults\n",
    "n_defaults = np.random.binomial(100 , 0.05 , 10000)\n",
    "\n",
    "# Compute CDF: x, y\n",
    "x,y = ecdf(n_defaults)\n",
    "\n",
    "# Plot the CDF with axis labels\n",
    "plt.plot(x,y ,marker = '.' ,linestyle= 'none')\n",
    "plt.xlabel('number of defaults out of 100 loans')\n",
    "plt.ylabel('CDF')\n",
    "\n",
    "# Show the plot\n",
    "plt.show()\n"
   ]
  },
  {
   "cell_type": "markdown",
   "metadata": {},
   "source": [
    "Plotting the Binomial PMF\n",
    "\n",
    "As mentioned in the video, plotting a nice looking PMF requires a bit of matplotlib trickery that we will not go into here. Instead, we will plot the PMF of the Binomial distribution as a histogram with skills you have already learned. The trick is setting up the edges of the bins to pass to plt.hist() via the bins keyword argument. We want the bins centered on the integers. So, the edges of the bins should be -0.5, 0.5, 1.5, 2.5, ... up to max(n_defaults) + 1.5. You can generate an array like this using np.arange() and then subtracting 0.5 from the array.\n",
    "\n",
    "You have already sampled out of the Binomial distribution during your exercises on loan defaults, and the resulting samples are in the NumPy array n_defaults."
   ]
  },
  {
   "cell_type": "code",
   "execution_count": 9,
   "metadata": {},
   "outputs": [
    {
     "name": "stderr",
     "output_type": "stream",
     "text": [
      "/home/deepanshu/anaconda3/lib/python3.7/site-packages/matplotlib/axes/_axes.py:6571: UserWarning: The 'normed' kwarg is deprecated, and has been replaced by the 'density' kwarg.\n",
      "  warnings.warn(\"The 'normed' kwarg is deprecated, and has been \"\n"
     ]
    },
    {
     "data": {
      "image/png": "[encoded data removed]",
      "text/plain": [
       "<Figure size 432x288 with 1 Axes>"
      ]
     },
     "metadata": {
      "needs_background": "light"
     },
     "output_type": "display_data"
    }
   ],
   "source": [
    "# Compute bin edges: bins\n",
    "bins = np.arange(0, max(n_defaults) + 1.5) - 0.5\n",
    "\n",
    "# Generate histogram\n",
    "plt.hist(n_defaults , normed= True , bins = bins)\n",
    "\n",
    "# Label axes\n",
    "plt.xlabel('number of defaults out of 100 loans')\n",
    "plt.ylabel('PMF')\n",
    "\n",
    "\n",
    "# Show the plot\n",
    "plt.show()"
   ]
  },
  {
   "cell_type": "markdown",
   "metadata": {},
   "source": [
    "Relationship between Binomial and Poisson distributions\n",
    "\n",
    "You just heard that the Poisson distribution is a limit of the Binomial distribution for rare events. This makes sense if you think about the stories. Say we do a Bernoulli trial every minute for an hour, each with a success probability of 0.1. We would do 60 trials, and the number of successes is Binomially distributed, and we would expect to get about 6 successes. This is just like the Poisson story we discussed in the video, where we get on average 6 hits on a website per hour. So, the Poisson distribution with arrival rate equal to np\n",
    "approximates a Binomial distribution for n Bernoulli trials with probability p of success (with n large and p\n",
    "\n",
    "small). Importantly, the Poisson distribution is often simpler to work with because it has only one parameter instead of two for the Binomial distribution.\n",
    "\n",
    "Let's explore these two distributions computationally. You will compute the mean and standard deviation of samples from a Poisson distribution with an arrival rate of 10. Then, you will compute the mean and standard deviation of samples from a Binomial distribution with parameters n\n",
    "and p such that np=10."
   ]
  },
  {
   "cell_type": "code",
   "execution_count": null,
   "metadata": {},
   "outputs": [],
   "source": [
    "# Draw 10,000 samples out of Poisson distribution: samples_poisson\n",
    "\n",
    "\n",
    "# Print the mean and standard deviation\n",
    "print('Poisson:     ', np.mean(samples_poisson),\n",
    "                       np.std(samples_poisson))\n",
    "\n",
    "# Specify values of n and p to consider for Binomial: n, p\n",
    "\n",
    "\n",
    "\n",
    "# Draw 10,000 samples for each n,p pair: samples_binomial\n",
    "for i in range(3):\n",
    "    samples_binomial = ____\n",
    "\n",
    "    # Print results\n",
    "    print('n =', n[i], 'Binom:', np.mean(samples_binomial),\n",
    "                                 np.std(samples_binomial))\n"
   ]
  },
  {
   "cell_type": "markdown",
   "metadata": {},
   "source": [
    "How many no-hitters in a season?\n",
    "\n",
    "In baseball, a no-hitter is a game in which a pitcher does not allow the other team to get a hit. This is a rare event, and since the beginning of the so-called modern era of baseball (starting in 1901), there have only been 251 of them through the 2015 season in over 200,000 games. The ECDF of the number of no-hitters in a season is shown to the right. Which probability distribution would be appropriate to describe the number of no-hitters we would expect in a given season?\n",
    "\n",
    "Note: The no-hitter data set was scraped and calculated from the data sets available at retrosheet.org (license)."
   ]
  },
  {
   "cell_type": "code",
   "execution_count": null,
   "metadata": {},
   "outputs": [],
   "source": []
  },
  {
   "cell_type": "markdown",
   "metadata": {},
   "source": [
    "Both Binomial and Poisson, though Poisson is easier to model and compute."
   ]
  },
  {
   "cell_type": "code",
   "execution_count": null,
   "metadata": {},
   "outputs": [],
   "source": []
  },
  {
   "cell_type": "markdown",
   "metadata": {},
   "source": [
    "Was 2015 anomalous?\n",
    "\n",
    "1990 and 2015 featured the most no-hitters of any season of baseball (there were seven). Given that there are on average 251/115 no-hitters per season, what is the probability of having seven or more in a season?"
   ]
  },
  {
   "cell_type": "code",
   "execution_count": null,
   "metadata": {},
   "outputs": [],
   "source": [
    "# Draw 10,000 samples out of Poisson distribution: n_nohitters\n",
    "\n",
    "\n",
    "# Compute number of samples that are seven or greater: n_large\n",
    "n_large = np.sum(____)\n",
    "\n",
    "# Compute probability of getting seven or more: p_large\n",
    "\n",
    "\n",
    "# Print the result\n",
    "print('Probability of seven or more no-hitters:', p_large)\n"
   ]
  }
 ],
 "metadata": {
  "kernelspec": {
   "display_name": "Python 3",
   "language": "python",
   "name": "python3"
  },
  "language_info": {
   "codemirror_mode": {
    "name": "ipython",
    "version": 3
   },
   "file_extension": ".py",
   "mimetype": "text/x-python",
   "name": "python",
   "nbconvert_exporter": "python",
   "pygments_lexer": "ipython3",
   "version": "3.7.0"
  }
 },
 "nbformat": 4,
 "nbformat_minor": 2
}
